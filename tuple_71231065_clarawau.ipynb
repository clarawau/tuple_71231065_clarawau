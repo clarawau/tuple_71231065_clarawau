{
 "cells": [
  {
   "cell_type": "code",
   "execution_count": 66,
   "id": "f196c11e",
   "metadata": {},
   "outputs": [
    {
     "name": "stdout",
     "output_type": "stream",
     "text": [
      "Masukkan tuple (pisahkan elemen dengan koma): 90,90,90,90\n",
      "True\n"
     ]
    }
   ],
   "source": [
    "def bandingkan(x):\n",
    "    for angka in range(1,len(x)):\n",
    "        if x[angka]!= x[0]:\n",
    "            return False\n",
    "    return True\n",
    "\n",
    "user = input(\"Masukkan tuple (pisahkan elemen dengan koma): \")\n",
    "inputt = user.split(',')\n",
    "ta = tuple(int(angka) for angka in inputt)\n",
    "\n",
    "if bandingkan(ta):\n",
    "    print(True)\n",
    "else:    \n",
    "    print(False)\n"
   ]
  },
  {
   "cell_type": "code",
   "execution_count": 64,
   "id": "87b8179b",
   "metadata": {},
   "outputs": [
    {
     "name": "stdout",
     "output_type": "stream",
     "text": [
      "data: ('Clara Elisabeth Wau', '71231065', 'Botohili, Sumatera Utara')\n",
      "nim : 71231065\n",
      "nama: Clara Elisabeth Wau\n",
      "alamat: Botohili, Sumatera Utara\n",
      "nim: ('7', '1', '2', '3', '1', '0', '6', '5')\n",
      "nama depan: ('c', 'l', 'a', 'r', 'a')\n",
      "nama terbalik: ('Wau', 'Elisabeth', 'Clara')\n"
     ]
    }
   ],
   "source": [
    "def perubahan(data):\n",
    "    nama, nim, alamat = data\n",
    "    print(\"data:\", data)\n",
    "    print(\"nim :\", nim)\n",
    "    print(\"nama:\", nama)\n",
    "    print(\"alamat:\", alamat)\n",
    "    if type(nim) == str:\n",
    "        print(\"nim:\", tuple(nim))\n",
    "    else:\n",
    "        print(\"nim: Nim harus berupa string.\")\n",
    "    if type(nama) == str:\n",
    "        print(\"nama depan:\", tuple(nama.split()[0].lower()))\n",
    "        print(\"nama terbalik:\", tuple(reversed(nama.split())))\n",
    "    else:\n",
    "        print(\"nama depan: Nama harus berupa huruf\")\n",
    "        print(\"nama terbalik: Nama harus berupa huruf\")\n",
    "datauser = ('Clara Elisabeth Wau', '71231065', 'Botohili, Sumatera Utara')\n",
    "perubahan(data_diri)"
   ]
  },
  {
   "cell_type": "code",
   "execution_count": 54,
   "id": "e7e120da",
   "metadata": {},
   "outputs": [
    {
     "name": "stdout",
     "output_type": "stream",
     "text": [
      "Enter a file name: time.txt\n",
      "04 3\n",
      "06 1\n",
      "07 1\n",
      "09 2\n",
      "10 3\n",
      "11 6\n",
      "14 1\n",
      "15 2\n",
      "16 4\n",
      "17 2\n",
      "18 1\n",
      "19 1\n"
     ]
    }
   ],
   "source": [
    "def waktu(filename):\n",
    "    buka = open(filename)\n",
    "    kamus = dict()\n",
    "    for i in buka:\n",
    "        if i.startswith(\"From \"):\n",
    "            kata2 = i.split()\n",
    "            waktunya = kata2[5].split(\":\")[0]\n",
    "            kamus[waktunya] = kamus.get(waktunya, 0) + 1\n",
    "    ringkas = sorted(kamus.items())\n",
    "    for w, k in ringkas:\n",
    "        print(w, k)\n",
    "    buka.close()\n",
    "user = input(\"Enter a file name: \")\n",
    "waktu(user)"
   ]
  },
  {
   "cell_type": "code",
   "execution_count": null,
   "id": "5e027f38",
   "metadata": {},
   "outputs": [],
   "source": []
  },
  {
   "cell_type": "code",
   "execution_count": 62,
   "id": "45964bc5",
   "metadata": {},
   "outputs": [
    {
     "name": "stdout",
     "output_type": "stream",
     "text": [
      "Masukkan tuple (pisahkan elemen dengan koma): 90,80,70,60\n",
      "True\n"
     ]
    }
   ],
   "source": [
    "def bandingkan(x):\n",
    "    for i in range(1, len(x)):\n",
    "        if x[i] != x[0]:\n",
    "            return True\n",
    "    return False\n",
    "\n",
    "user_input = input(\"Masukkan tuple (pisahkan elemen dengan koma): \")\n",
    "input_tuple = tuple(int(angka) for angka in user_input.split(','))\n",
    "\n",
    "if bandingkan(input_tuple):\n",
    "    print(True)\n",
    "else:    \n",
    "    print(False)\n"
   ]
  },
  {
   "cell_type": "code",
   "execution_count": null,
   "id": "c9437772",
   "metadata": {},
   "outputs": [],
   "source": []
  }
 ],
 "metadata": {
  "kernelspec": {
   "display_name": "Python 3 (ipykernel)",
   "language": "python",
   "name": "python3"
  },
  "language_info": {
   "codemirror_mode": {
    "name": "ipython",
    "version": 3
   },
   "file_extension": ".py",
   "mimetype": "text/x-python",
   "name": "python",
   "nbconvert_exporter": "python",
   "pygments_lexer": "ipython3",
   "version": "3.11.5"
  }
 },
 "nbformat": 4,
 "nbformat_minor": 5
}
